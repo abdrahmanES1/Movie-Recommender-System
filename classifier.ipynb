{
 "cells": [
  {
   "cell_type": "code",
   "execution_count": null,
   "id": "17e20967",
   "metadata": {},
   "outputs": [
    {
     "data": {
      "text/plain": [
       "['rec_knn_model.joblib']"
      ]
     },
     "execution_count": 299,
     "metadata": {},
     "output_type": "execute_result"
    }
   ],
   "source": [
    "\n",
    "from sklearn.neighbors import NearestNeighbors\n",
    "import pandas as pd\n",
    "genre_df = pd.read_csv(\"./data/genre_data.csv\", index_col=0)\n",
    "movies = pd.read_json(\"./data/movie_data.json\")\n",
    "\n",
    "\n",
    "model_knn = NearestNeighbors(metric=\"cosine\", algorithm=\"brute\", n_neighbors=10)\n",
    "model_knn.fit(genre_df.values)\n",
    "\n",
    "import joblib\n",
    "\n",
    "# Save MultiLabelBinarizer\n",
    "joblib.dump(model_knn, \"./pickles/rec_knn_model.joblib\")\n",
    "\n",
    "# print(\"Movies similar to:\", movies.iloc[movie_index][\"movie_title\"])\n",
    "# for i in range(1, len(distances.flatten())):\n",
    "#     idx = indices.flatten()[i]\n",
    "#     print(f\"{i} -  index : {movies.iloc[idx].index} {movies.iloc[idx]['movie_title']} (distance={distances.flatten()[i]:.2f})\")\n"
   ]
  },
  {
   "cell_type": "code",
   "execution_count": 285,
   "id": "7f758288",
   "metadata": {},
   "outputs": [
    {
     "data": {
      "application/vnd.microsoft.datawrangler.viewer.v0+json": {
       "columns": [
        {
         "name": "index",
         "rawType": "object",
         "type": "string"
        },
        {
         "name": "100",
         "rawType": "object",
         "type": "unknown"
        }
       ],
       "ref": "abcdd64e-79d7-4b1e-b93c-46d8c2b6bcf5",
       "rows": [
        [
         "movie_title",
         "The Fast and the Furious "
        ],
        [
         "genres",
         "['Action', 'Crime', 'Thriller']"
        ],
        [
         "director_name",
         "Rob Cohen"
        ],
        [
         "duration",
         "106.0"
        ],
        [
         "language",
         "English"
        ],
        [
         "country",
         "USA"
        ],
        [
         "title_year",
         "2001.0"
        ],
        [
         "imdb_score",
         "6.7"
        ],
        [
         "movie_imdb_link",
         "http://www.imdb.com/title/tt0232500/?ref_=fn_tt_tt_1"
        ]
       ],
       "shape": {
        "columns": 1,
        "rows": 9
       }
      },
      "text/plain": [
       "movie_title                                The Fast and the Furious \n",
       "genres                                     [Action, Crime, Thriller]\n",
       "director_name                                              Rob Cohen\n",
       "duration                                                       106.0\n",
       "language                                                     English\n",
       "country                                                          USA\n",
       "title_year                                                    2001.0\n",
       "imdb_score                                                       6.7\n",
       "movie_imdb_link    http://www.imdb.com/title/tt0232500/?ref_=fn_t...\n",
       "Name: 100, dtype: object"
      ]
     },
     "execution_count": 285,
     "metadata": {},
     "output_type": "execute_result"
    }
   ],
   "source": [
    "selected_movie_index = 100\n",
    "# movies.iloc[selected_movie_index][\"genres\"] = movies.loc[selected_movie_index][\"genres\"].split(\"|\")\n",
    "movies.iloc[selected_movie_index]\n",
    "#print(movies.dtypes)"
   ]
  },
  {
   "cell_type": "markdown",
   "id": "bec2603c",
   "metadata": {},
   "source": [
    "## a - Cosine Similarity"
   ]
  },
  {
   "cell_type": "code",
   "execution_count": 292,
   "id": "891fd527",
   "metadata": {},
   "outputs": [
    {
     "name": "stdout",
     "output_type": "stream",
     "text": [
      "['Action']\n"
     ]
    },
    {
     "data": {
      "application/vnd.microsoft.datawrangler.viewer.v0+json": {
       "columns": [
        {
         "name": "index",
         "rawType": "int64",
         "type": "integer"
        },
        {
         "name": "Action",
         "rawType": "int64",
         "type": "integer"
        },
        {
         "name": "Adventure",
         "rawType": "int64",
         "type": "integer"
        },
        {
         "name": "Animation",
         "rawType": "int64",
         "type": "integer"
        },
        {
         "name": "Biography",
         "rawType": "int64",
         "type": "integer"
        },
        {
         "name": "Comedy",
         "rawType": "int64",
         "type": "integer"
        },
        {
         "name": "Crime",
         "rawType": "int64",
         "type": "integer"
        },
        {
         "name": "Documentary",
         "rawType": "int64",
         "type": "integer"
        },
        {
         "name": "Drama",
         "rawType": "int64",
         "type": "integer"
        },
        {
         "name": "Family",
         "rawType": "int64",
         "type": "integer"
        },
        {
         "name": "Fantasy",
         "rawType": "int64",
         "type": "integer"
        },
        {
         "name": "Film-Noir",
         "rawType": "int64",
         "type": "integer"
        },
        {
         "name": "Game-Show",
         "rawType": "int64",
         "type": "integer"
        },
        {
         "name": "History",
         "rawType": "int64",
         "type": "integer"
        },
        {
         "name": "Horror",
         "rawType": "int64",
         "type": "integer"
        },
        {
         "name": "Music",
         "rawType": "int64",
         "type": "integer"
        },
        {
         "name": "Musical",
         "rawType": "int64",
         "type": "integer"
        },
        {
         "name": "Mystery",
         "rawType": "int64",
         "type": "integer"
        },
        {
         "name": "News",
         "rawType": "int64",
         "type": "integer"
        },
        {
         "name": "Reality-TV",
         "rawType": "int64",
         "type": "integer"
        },
        {
         "name": "Romance",
         "rawType": "int64",
         "type": "integer"
        },
        {
         "name": "Sci-Fi",
         "rawType": "int64",
         "type": "integer"
        },
        {
         "name": "Short",
         "rawType": "int64",
         "type": "integer"
        },
        {
         "name": "Sport",
         "rawType": "int64",
         "type": "integer"
        },
        {
         "name": "Thriller",
         "rawType": "int64",
         "type": "integer"
        },
        {
         "name": "War",
         "rawType": "int64",
         "type": "integer"
        },
        {
         "name": "Western",
         "rawType": "int64",
         "type": "integer"
        }
       ],
       "ref": "f3f0becf-32b2-4ddf-845f-5710b9ca5577",
       "rows": [
        [
         "0",
         "1",
         "0",
         "0",
         "0",
         "0",
         "0",
         "0",
         "0",
         "0",
         "0",
         "0",
         "0",
         "0",
         "0",
         "0",
         "0",
         "0",
         "0",
         "0",
         "0",
         "0",
         "0",
         "0",
         "0",
         "0",
         "0"
        ]
       ],
       "shape": {
        "columns": 26,
        "rows": 1
       }
      },
      "text/html": [
       "<div>\n",
       "<style scoped>\n",
       "    .dataframe tbody tr th:only-of-type {\n",
       "        vertical-align: middle;\n",
       "    }\n",
       "\n",
       "    .dataframe tbody tr th {\n",
       "        vertical-align: top;\n",
       "    }\n",
       "\n",
       "    .dataframe thead th {\n",
       "        text-align: right;\n",
       "    }\n",
       "</style>\n",
       "<table border=\"1\" class=\"dataframe\">\n",
       "  <thead>\n",
       "    <tr style=\"text-align: right;\">\n",
       "      <th></th>\n",
       "      <th>Action</th>\n",
       "      <th>Adventure</th>\n",
       "      <th>Animation</th>\n",
       "      <th>Biography</th>\n",
       "      <th>Comedy</th>\n",
       "      <th>Crime</th>\n",
       "      <th>Documentary</th>\n",
       "      <th>Drama</th>\n",
       "      <th>Family</th>\n",
       "      <th>Fantasy</th>\n",
       "      <th>...</th>\n",
       "      <th>Mystery</th>\n",
       "      <th>News</th>\n",
       "      <th>Reality-TV</th>\n",
       "      <th>Romance</th>\n",
       "      <th>Sci-Fi</th>\n",
       "      <th>Short</th>\n",
       "      <th>Sport</th>\n",
       "      <th>Thriller</th>\n",
       "      <th>War</th>\n",
       "      <th>Western</th>\n",
       "    </tr>\n",
       "  </thead>\n",
       "  <tbody>\n",
       "    <tr>\n",
       "      <th>0</th>\n",
       "      <td>1</td>\n",
       "      <td>0</td>\n",
       "      <td>0</td>\n",
       "      <td>0</td>\n",
       "      <td>0</td>\n",
       "      <td>0</td>\n",
       "      <td>0</td>\n",
       "      <td>0</td>\n",
       "      <td>0</td>\n",
       "      <td>0</td>\n",
       "      <td>...</td>\n",
       "      <td>0</td>\n",
       "      <td>0</td>\n",
       "      <td>0</td>\n",
       "      <td>0</td>\n",
       "      <td>0</td>\n",
       "      <td>0</td>\n",
       "      <td>0</td>\n",
       "      <td>0</td>\n",
       "      <td>0</td>\n",
       "      <td>0</td>\n",
       "    </tr>\n",
       "  </tbody>\n",
       "</table>\n",
       "<p>1 rows × 26 columns</p>\n",
       "</div>"
      ],
      "text/plain": [
       "   Action  Adventure  Animation  Biography  Comedy  Crime  Documentary  Drama  \\\n",
       "0       1          0          0          0       0      0            0      0   \n",
       "\n",
       "   Family  Fantasy  ...  Mystery  News  Reality-TV  Romance  Sci-Fi  Short  \\\n",
       "0       0        0  ...        0     0           0        0       0      0   \n",
       "\n",
       "   Sport  Thriller  War  Western  \n",
       "0      0         0    0        0  \n",
       "\n",
       "[1 rows x 26 columns]"
      ]
     },
     "execution_count": 292,
     "metadata": {},
     "output_type": "execute_result"
    }
   ],
   "source": [
    "import joblib\n",
    "import ast \n",
    "\n",
    "mlb = joblib.load(\"mlb_genre_encoder.joblib\")\n",
    "\n",
    "# Example: Predict for a new movie\n",
    "target_genres =[\"Action\"]# movies.iloc[selected_movie_index][\"genres\"]\n",
    "print(target_genres)\n",
    "new_movie_vec = mlb.transform([target_genres])\n",
    "genre_df = pd.DataFrame(new_movie_vec, columns=mlb.classes_)\n",
    "genre_df"
   ]
  },
  {
   "cell_type": "code",
   "execution_count": 297,
   "id": "846c0e1a",
   "metadata": {},
   "outputs": [
    {
     "name": "stdout",
     "output_type": "stream",
     "text": [
      "Recommended: Diamond Ruff  Genres : ['Action'] | Similarity: 1.00\n",
      "Recommended: Out of Inferno  Genres : ['Action'] | Similarity: 1.00\n",
      "Recommended: Code of Honor  Genres : ['Action'] | Similarity: 1.00\n",
      "Recommended: Ong-bak 2  Genres : ['Action'] | Similarity: 1.00\n",
      "Recommended: The Man with the Iron Fists  Genres : ['Action'] | Similarity: 1.00\n",
      "Recommended: Reign of Assassins  Genres : ['Action'] | Similarity: 1.00\n",
      "Recommended: Excessive Force  Genres : ['Action'] | Similarity: 1.00\n",
      "Recommended: Batman Returns  Genres : ['Action'] | Similarity: 1.00\n",
      "Recommended: Kickboxer: Vengeance  Genres : ['Action'] | Similarity: 1.00\n"
     ]
    }
   ],
   "source": [
    "\n",
    "# Pick a movie to recommend similar ones\n",
    "distances, indices = model_knn.kneighbors(new_movie_vec, n_neighbors=10)\n",
    "\n",
    "for i in range(1, len(distances.flatten())):\n",
    "    idx = indices.flatten()[i]\n",
    "    sim_score = 1 - distances.flatten()[i]  # cosine similarity = 1 - distance\n",
    "    print(f\"Recommended: {movies.iloc[idx]['movie_title']} Genres : {movies.iloc[idx]['genres']} | Similarity: {sim_score:.2f}\")"
   ]
  },
  {
   "cell_type": "markdown",
   "id": "8f9d572c",
   "metadata": {},
   "source": [
    "## b - Jaccard Similarity on Genres\n",
    "\n",
    "Measure overlap of genres between target and recommended movies:\n",
    "\n",
    "1.0 → all genres match\n",
    "\n",
    "0.0 → no overlap"
   ]
  },
  {
   "cell_type": "code",
   "execution_count": 298,
   "id": "90766d4e",
   "metadata": {},
   "outputs": [
    {
     "name": "stdout",
     "output_type": "stream",
     "text": [
      "Recommended: Diamond Ruff  Genres : ['Action'] | Jaccard similarity: 1.00\n",
      "Recommended: Out of Inferno  Genres : ['Action'] | Jaccard similarity: 1.00\n",
      "Recommended: Code of Honor  Genres : ['Action'] | Jaccard similarity: 1.00\n",
      "Recommended: Ong-bak 2  Genres : ['Action'] | Jaccard similarity: 1.00\n",
      "Recommended: The Man with the Iron Fists  Genres : ['Action'] | Jaccard similarity: 1.00\n",
      "Recommended: Reign of Assassins  Genres : ['Action'] | Jaccard similarity: 1.00\n",
      "Recommended: Excessive Force  Genres : ['Action'] | Jaccard similarity: 1.00\n",
      "Recommended: Batman Returns  Genres : ['Action'] | Jaccard similarity: 1.00\n",
      "Recommended: Kickboxer: Vengeance  Genres : ['Action'] | Jaccard similarity: 1.00\n"
     ]
    }
   ],
   "source": [
    "def jaccard(genres1, genres2):\n",
    "    set1, set2 = set(genres1), set(genres2)\n",
    "    return len(set1 & set2) / len(set1 | set2)\n",
    "\n",
    "for i in range(1, len(indices.flatten())):\n",
    "    idx = indices.flatten()[i]\n",
    "    rec_genres = movies.iloc[idx][\"genres\"]\n",
    "    score = jaccard(target_genres, rec_genres)\n",
    "    print(f\"Recommended: {movies.iloc[idx]['movie_title']} Genres : {movies.iloc[idx]['genres']} | Jaccard similarity: {score:.2f}\")\n"
   ]
  },
  {
   "cell_type": "code",
   "execution_count": 317,
   "id": "a3a74af4",
   "metadata": {},
   "outputs": [
    {
     "name": "stdout",
     "output_type": "stream",
     "text": [
      "{'movie_title': 'The Mudge Boy\\xa0', 'genres': ['Crime', 'Drama', 'Romance'], 'director_name': 'Michael Burke', 'duration': 94.0, 'language': 'English', 'country': 'USA', 'title_year': 2003.0, 'imdb_score': 7.2, 'movie_imdb_link': 'http://www.imdb.com/title/tt0339419/?ref_=fn_tt_tt_1', 'similarity': np.float64(100.0)}\n",
      "{'movie_title': 'A Cinderella Story\\xa0', 'genres': ['Comedy', 'Family', 'Romance'], 'director_name': 'Mark Rosman', 'duration': 95.0, 'language': 'English', 'country': 'USA', 'title_year': 2004.0, 'imdb_score': 5.9, 'movie_imdb_link': 'http://www.imdb.com/title/tt0356470/?ref_=fn_tt_tt_1', 'similarity': np.float64(100.0)}\n",
      "{'movie_title': 'Modern Problems\\xa0', 'genres': ['Comedy', 'Fantasy', 'Sci-Fi'], 'director_name': 'Ken Shapiro', 'duration': 93.0, 'language': 'English', 'country': 'USA', 'title_year': 1981.0, 'imdb_score': 5.0, 'movie_imdb_link': 'http://www.imdb.com/title/tt0082763/?ref_=fn_tt_tt_1', 'similarity': np.float64(100.0)}\n",
      "{'movie_title': 'Brazil\\xa0', 'genres': ['Drama', 'Sci-Fi'], 'director_name': 'Terry Gilliam', 'duration': 142.0, 'language': 'English', 'country': 'UK', 'title_year': 1985.0, 'imdb_score': 8.0, 'movie_imdb_link': 'http://www.imdb.com/title/tt0088846/?ref_=fn_tt_tt_1', 'similarity': np.float64(100.0)}\n",
      "{'movie_title': 'When the Game Stands Tall\\xa0', 'genres': ['Drama', 'Family', 'Sport'], 'director_name': 'Thomas Carter', 'duration': 115.0, 'language': 'English', 'country': 'USA', 'title_year': 2014.0, 'imdb_score': 6.7, 'movie_imdb_link': 'http://www.imdb.com/title/tt2247476/?ref_=fn_tt_tt_1', 'similarity': np.float64(100.0)}\n",
      "5 [{'movie_title': 'The Mudge Boy\\xa0', 'genres': ['Crime', 'Drama', 'Romance'], 'director_name': 'Michael Burke', 'duration': 94.0, 'language': 'English', 'country': 'USA', 'title_year': 2003.0, 'imdb_score': 7.2, 'movie_imdb_link': 'http://www.imdb.com/title/tt0339419/?ref_=fn_tt_tt_1', 'similarity': np.float64(100.0)}, {'movie_title': 'A Cinderella Story\\xa0', 'genres': ['Comedy', 'Family', 'Romance'], 'director_name': 'Mark Rosman', 'duration': 95.0, 'language': 'English', 'country': 'USA', 'title_year': 2004.0, 'imdb_score': 5.9, 'movie_imdb_link': 'http://www.imdb.com/title/tt0356470/?ref_=fn_tt_tt_1', 'similarity': np.float64(100.0)}, {'movie_title': 'Modern Problems\\xa0', 'genres': ['Comedy', 'Fantasy', 'Sci-Fi'], 'director_name': 'Ken Shapiro', 'duration': 93.0, 'language': 'English', 'country': 'USA', 'title_year': 1981.0, 'imdb_score': 5.0, 'movie_imdb_link': 'http://www.imdb.com/title/tt0082763/?ref_=fn_tt_tt_1', 'similarity': np.float64(100.0)}, {'movie_title': 'Brazil\\xa0', 'genres': ['Drama', 'Sci-Fi'], 'director_name': 'Terry Gilliam', 'duration': 142.0, 'language': 'English', 'country': 'UK', 'title_year': 1985.0, 'imdb_score': 8.0, 'movie_imdb_link': 'http://www.imdb.com/title/tt0088846/?ref_=fn_tt_tt_1', 'similarity': np.float64(100.0)}, {'movie_title': 'When the Game Stands Tall\\xa0', 'genres': ['Drama', 'Family', 'Sport'], 'director_name': 'Thomas Carter', 'duration': 115.0, 'language': 'English', 'country': 'USA', 'title_year': 2014.0, 'imdb_score': 6.7, 'movie_imdb_link': 'http://www.imdb.com/title/tt2247476/?ref_=fn_tt_tt_1', 'similarity': np.float64(100.0)}]\n"
     ]
    }
   ],
   "source": [
    "import joblib\n",
    "import pandas as pd\n",
    "\n",
    "knn_model = joblib.load('./pickles/rec_knn_model.joblib')\n",
    "mlb_model = joblib.load('./pickles/mlb_genre_encoder.joblib')\n",
    "\n",
    "movies_df =  pd.read_json(\"./data/movie_data.json\")\n",
    "\n",
    "# kneighbors\n",
    "def get_recommendations(genres: list, k=6):\n",
    "    genres_vec = mlb_model.transform([genres])\n",
    "    distances, indices = model_knn.kneighbors(genres_vec, n_neighbors=k)\n",
    "    rec_movies = []\n",
    "\n",
    "    for i in range(1, len(distances.flatten())):\n",
    "        idx = indices.flatten()[i]\n",
    "        sim_score = 1 - distances.flatten()[i]  # cosine similarity = 1 - distance\n",
    "        current_movie = movies_df.loc[idx].to_dict()\n",
    "        current_movie[\"similarity\"] = sim_score * 100\n",
    "        rec_movies.append(current_movie)\n",
    "\n",
    "        print(current_movie)\n",
    "\n",
    "    return rec_movies, len(rec_movies)\n",
    "\n",
    "\n",
    "\n",
    "ok, l = get_recommendations([\"Action\"])\n",
    "print(l, ok)\n"
   ]
  }
 ],
 "metadata": {
  "kernelspec": {
   "display_name": "aienv",
   "language": "python",
   "name": "python3"
  },
  "language_info": {
   "codemirror_mode": {
    "name": "ipython",
    "version": 3
   },
   "file_extension": ".py",
   "mimetype": "text/x-python",
   "name": "python",
   "nbconvert_exporter": "python",
   "pygments_lexer": "ipython3",
   "version": "3.10.6"
  }
 },
 "nbformat": 4,
 "nbformat_minor": 5
}
